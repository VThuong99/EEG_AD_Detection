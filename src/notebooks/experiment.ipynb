{
  "nbformat": 4,
  "nbformat_minor": 0,
  "metadata": {
    "colab": {
      "provenance": []
    },
    "kernelspec": {
      "name": "python3",
      "display_name": "Python 3"
    },
    "language_info": {
      "name": "python"
    }
  },
  "cells": [
    {
      "cell_type": "markdown",
      "source": [
        "### Setup colab"
      ],
      "metadata": {
        "id": "awoKMnLbt8Bx"
      }
    },
    {
      "cell_type": "code",
      "execution_count": 1,
      "metadata": {
        "colab": {
          "base_uri": "https://localhost:8080/"
        },
        "id": "zff1csjyt2yy",
        "outputId": "28f05a06-e712-4efa-9a6d-713ef4751424"
      },
      "outputs": [
        {
          "output_type": "stream",
          "name": "stdout",
          "text": [
            "Mounted at /content/drive\n"
          ]
        }
      ],
      "source": [
        "from google.colab import drive\n",
        "drive.mount('/content/drive')\n"
      ]
    },
    {
      "cell_type": "code",
      "source": [
        "%cd /content/drive/MyDrive/colab-projects/EEG_AD_Detection/"
      ],
      "metadata": {
        "colab": {
          "base_uri": "https://localhost:8080/"
        },
        "id": "UdKqxgg1u59f",
        "outputId": "69e7c284-df4c-4f53-e5a7-223d5079fa0f"
      },
      "execution_count": 2,
      "outputs": [
        {
          "output_type": "stream",
          "name": "stdout",
          "text": [
            "/content/drive/MyDrive/colab-projects/EEG_AD_Detection\n"
          ]
        }
      ]
    },
    {
      "cell_type": "code",
      "source": [
        "# !mkdir -p ~/.ssh\n",
        "# !chmod 700 ~/.ssh\n",
        "# !ssh-keyscan github.com >> ~/.ssh/known_hosts\n",
        "# !chmod 600 ~/.ssh/known_hosts\n",
        "# !cp \"/content/drive/MyDrive/ssh-keys/id_rsa\" ~/.ssh/id_rsa\n",
        "# !chmod 400 ~/.ssh/id_rsa\n",
        "# import os\n",
        "# os.environ['GIT_SSH_COMMAND'] = 'ssh -i ~/.ssh/id_rsa'\n",
        "# # !git clone git@github.com:VThuong99/EEG_AD_Detection.git '/content/drive/MyDrive/colab-projects/EEG_AD_Detection'\n"
      ],
      "metadata": {
        "id": "FTFuYsylwZCB"
      },
      "execution_count": null,
      "outputs": []
    },
    {
      "cell_type": "code",
      "source": [
        "# !git add config.py\n",
        "# !git commit -m \"Change config.py\""
      ],
      "metadata": {
        "id": "xctPSYaGXY_c"
      },
      "execution_count": null,
      "outputs": []
    },
    {
      "cell_type": "code",
      "source": [
        "# !git pull"
      ],
      "metadata": {
        "id": "VgMVZvweRWG2"
      },
      "execution_count": null,
      "outputs": []
    },
    {
      "cell_type": "code",
      "source": [
        "# !git config --global user.email \"duongvanthuong9a8@gmail.com\"\n",
        "# !git config --global user.name \"VThuong99\""
      ],
      "metadata": {
        "id": "_pfbCIerQRCb"
      },
      "execution_count": null,
      "outputs": []
    },
    {
      "cell_type": "code",
      "source": [
        "# !pip install -r requirements.txt\n",
        "!pip install mne\n",
        "!pip install mne_connectivity"
      ],
      "metadata": {
        "colab": {
          "base_uri": "https://localhost:8080/"
        },
        "collapsed": true,
        "id": "6AuiCst6vRKu",
        "outputId": "b342f7af-cc2b-4995-d252-1f7fe2748d4b"
      },
      "execution_count": 3,
      "outputs": [
        {
          "output_type": "stream",
          "name": "stdout",
          "text": [
            "Collecting mne\n",
            "  Downloading mne-1.9.0-py3-none-any.whl.metadata (20 kB)\n",
            "Requirement already satisfied: decorator in /usr/local/lib/python3.11/dist-packages (from mne) (4.4.2)\n",
            "Requirement already satisfied: jinja2 in /usr/local/lib/python3.11/dist-packages (from mne) (3.1.5)\n",
            "Requirement already satisfied: lazy-loader>=0.3 in /usr/local/lib/python3.11/dist-packages (from mne) (0.4)\n",
            "Requirement already satisfied: matplotlib>=3.6 in /usr/local/lib/python3.11/dist-packages (from mne) (3.10.0)\n",
            "Requirement already satisfied: numpy<3,>=1.23 in /usr/local/lib/python3.11/dist-packages (from mne) (1.26.4)\n",
            "Requirement already satisfied: packaging in /usr/local/lib/python3.11/dist-packages (from mne) (24.2)\n",
            "Requirement already satisfied: pooch>=1.5 in /usr/local/lib/python3.11/dist-packages (from mne) (1.8.2)\n",
            "Requirement already satisfied: scipy>=1.9 in /usr/local/lib/python3.11/dist-packages (from mne) (1.13.1)\n",
            "Requirement already satisfied: tqdm in /usr/local/lib/python3.11/dist-packages (from mne) (4.67.1)\n",
            "Requirement already satisfied: contourpy>=1.0.1 in /usr/local/lib/python3.11/dist-packages (from matplotlib>=3.6->mne) (1.3.1)\n",
            "Requirement already satisfied: cycler>=0.10 in /usr/local/lib/python3.11/dist-packages (from matplotlib>=3.6->mne) (0.12.1)\n",
            "Requirement already satisfied: fonttools>=4.22.0 in /usr/local/lib/python3.11/dist-packages (from matplotlib>=3.6->mne) (4.56.0)\n",
            "Requirement already satisfied: kiwisolver>=1.3.1 in /usr/local/lib/python3.11/dist-packages (from matplotlib>=3.6->mne) (1.4.8)\n",
            "Requirement already satisfied: pillow>=8 in /usr/local/lib/python3.11/dist-packages (from matplotlib>=3.6->mne) (11.1.0)\n",
            "Requirement already satisfied: pyparsing>=2.3.1 in /usr/local/lib/python3.11/dist-packages (from matplotlib>=3.6->mne) (3.2.1)\n",
            "Requirement already satisfied: python-dateutil>=2.7 in /usr/local/lib/python3.11/dist-packages (from matplotlib>=3.6->mne) (2.8.2)\n",
            "Requirement already satisfied: platformdirs>=2.5.0 in /usr/local/lib/python3.11/dist-packages (from pooch>=1.5->mne) (4.3.6)\n",
            "Requirement already satisfied: requests>=2.19.0 in /usr/local/lib/python3.11/dist-packages (from pooch>=1.5->mne) (2.32.3)\n",
            "Requirement already satisfied: MarkupSafe>=2.0 in /usr/local/lib/python3.11/dist-packages (from jinja2->mne) (3.0.2)\n",
            "Requirement already satisfied: six>=1.5 in /usr/local/lib/python3.11/dist-packages (from python-dateutil>=2.7->matplotlib>=3.6->mne) (1.17.0)\n",
            "Requirement already satisfied: charset-normalizer<4,>=2 in /usr/local/lib/python3.11/dist-packages (from requests>=2.19.0->pooch>=1.5->mne) (3.4.1)\n",
            "Requirement already satisfied: idna<4,>=2.5 in /usr/local/lib/python3.11/dist-packages (from requests>=2.19.0->pooch>=1.5->mne) (3.10)\n",
            "Requirement already satisfied: urllib3<3,>=1.21.1 in /usr/local/lib/python3.11/dist-packages (from requests>=2.19.0->pooch>=1.5->mne) (2.3.0)\n",
            "Requirement already satisfied: certifi>=2017.4.17 in /usr/local/lib/python3.11/dist-packages (from requests>=2.19.0->pooch>=1.5->mne) (2025.1.31)\n",
            "Downloading mne-1.9.0-py3-none-any.whl (7.4 MB)\n",
            "\u001b[2K   \u001b[90m━━━━━━━━━━━━━━━━━━━━━━━━━━━━━━━━━━━━━━━━\u001b[0m \u001b[32m7.4/7.4 MB\u001b[0m \u001b[31m29.1 MB/s\u001b[0m eta \u001b[36m0:00:00\u001b[0m\n",
            "\u001b[?25hInstalling collected packages: mne\n",
            "Successfully installed mne-1.9.0\n",
            "Collecting mne_connectivity\n",
            "  Downloading mne_connectivity-0.7.0-py3-none-any.whl.metadata (10 kB)\n",
            "Requirement already satisfied: mne>=1.6 in /usr/local/lib/python3.11/dist-packages (from mne_connectivity) (1.9.0)\n",
            "Collecting netCDF4>=1.6.5 (from mne_connectivity)\n",
            "  Downloading netCDF4-1.7.2-cp311-cp311-manylinux_2_17_x86_64.manylinux2014_x86_64.whl.metadata (1.8 kB)\n",
            "Requirement already satisfied: numpy>=1.21 in /usr/local/lib/python3.11/dist-packages (from mne_connectivity) (1.26.4)\n",
            "Requirement already satisfied: pandas>=1.3.2 in /usr/local/lib/python3.11/dist-packages (from mne_connectivity) (2.2.2)\n",
            "Requirement already satisfied: scipy>=1.4.0 in /usr/local/lib/python3.11/dist-packages (from mne_connectivity) (1.13.1)\n",
            "Requirement already satisfied: tqdm in /usr/local/lib/python3.11/dist-packages (from mne_connectivity) (4.67.1)\n",
            "Requirement already satisfied: xarray>=2023.11.0 in /usr/local/lib/python3.11/dist-packages (from mne_connectivity) (2025.1.2)\n",
            "Requirement already satisfied: decorator in /usr/local/lib/python3.11/dist-packages (from mne>=1.6->mne_connectivity) (4.4.2)\n",
            "Requirement already satisfied: jinja2 in /usr/local/lib/python3.11/dist-packages (from mne>=1.6->mne_connectivity) (3.1.5)\n",
            "Requirement already satisfied: lazy-loader>=0.3 in /usr/local/lib/python3.11/dist-packages (from mne>=1.6->mne_connectivity) (0.4)\n",
            "Requirement already satisfied: matplotlib>=3.6 in /usr/local/lib/python3.11/dist-packages (from mne>=1.6->mne_connectivity) (3.10.0)\n",
            "Requirement already satisfied: packaging in /usr/local/lib/python3.11/dist-packages (from mne>=1.6->mne_connectivity) (24.2)\n",
            "Requirement already satisfied: pooch>=1.5 in /usr/local/lib/python3.11/dist-packages (from mne>=1.6->mne_connectivity) (1.8.2)\n",
            "Collecting cftime (from netCDF4>=1.6.5->mne_connectivity)\n",
            "  Downloading cftime-1.6.4.post1-cp311-cp311-manylinux_2_17_x86_64.manylinux2014_x86_64.whl.metadata (8.7 kB)\n",
            "Requirement already satisfied: certifi in /usr/local/lib/python3.11/dist-packages (from netCDF4>=1.6.5->mne_connectivity) (2025.1.31)\n",
            "Requirement already satisfied: python-dateutil>=2.8.2 in /usr/local/lib/python3.11/dist-packages (from pandas>=1.3.2->mne_connectivity) (2.8.2)\n",
            "Requirement already satisfied: pytz>=2020.1 in /usr/local/lib/python3.11/dist-packages (from pandas>=1.3.2->mne_connectivity) (2025.1)\n",
            "Requirement already satisfied: tzdata>=2022.7 in /usr/local/lib/python3.11/dist-packages (from pandas>=1.3.2->mne_connectivity) (2025.1)\n",
            "Requirement already satisfied: contourpy>=1.0.1 in /usr/local/lib/python3.11/dist-packages (from matplotlib>=3.6->mne>=1.6->mne_connectivity) (1.3.1)\n",
            "Requirement already satisfied: cycler>=0.10 in /usr/local/lib/python3.11/dist-packages (from matplotlib>=3.6->mne>=1.6->mne_connectivity) (0.12.1)\n",
            "Requirement already satisfied: fonttools>=4.22.0 in /usr/local/lib/python3.11/dist-packages (from matplotlib>=3.6->mne>=1.6->mne_connectivity) (4.56.0)\n",
            "Requirement already satisfied: kiwisolver>=1.3.1 in /usr/local/lib/python3.11/dist-packages (from matplotlib>=3.6->mne>=1.6->mne_connectivity) (1.4.8)\n",
            "Requirement already satisfied: pillow>=8 in /usr/local/lib/python3.11/dist-packages (from matplotlib>=3.6->mne>=1.6->mne_connectivity) (11.1.0)\n",
            "Requirement already satisfied: pyparsing>=2.3.1 in /usr/local/lib/python3.11/dist-packages (from matplotlib>=3.6->mne>=1.6->mne_connectivity) (3.2.1)\n",
            "Requirement already satisfied: platformdirs>=2.5.0 in /usr/local/lib/python3.11/dist-packages (from pooch>=1.5->mne>=1.6->mne_connectivity) (4.3.6)\n",
            "Requirement already satisfied: requests>=2.19.0 in /usr/local/lib/python3.11/dist-packages (from pooch>=1.5->mne>=1.6->mne_connectivity) (2.32.3)\n",
            "Requirement already satisfied: six>=1.5 in /usr/local/lib/python3.11/dist-packages (from python-dateutil>=2.8.2->pandas>=1.3.2->mne_connectivity) (1.17.0)\n",
            "Requirement already satisfied: MarkupSafe>=2.0 in /usr/local/lib/python3.11/dist-packages (from jinja2->mne>=1.6->mne_connectivity) (3.0.2)\n",
            "Requirement already satisfied: charset-normalizer<4,>=2 in /usr/local/lib/python3.11/dist-packages (from requests>=2.19.0->pooch>=1.5->mne>=1.6->mne_connectivity) (3.4.1)\n",
            "Requirement already satisfied: idna<4,>=2.5 in /usr/local/lib/python3.11/dist-packages (from requests>=2.19.0->pooch>=1.5->mne>=1.6->mne_connectivity) (3.10)\n",
            "Requirement already satisfied: urllib3<3,>=1.21.1 in /usr/local/lib/python3.11/dist-packages (from requests>=2.19.0->pooch>=1.5->mne>=1.6->mne_connectivity) (2.3.0)\n",
            "Downloading mne_connectivity-0.7.0-py3-none-any.whl (115 kB)\n",
            "\u001b[2K   \u001b[90m━━━━━━━━━━━━━━━━━━━━━━━━━━━━━━━━━━━━━━━━\u001b[0m \u001b[32m115.2/115.2 kB\u001b[0m \u001b[31m2.9 MB/s\u001b[0m eta \u001b[36m0:00:00\u001b[0m\n",
            "\u001b[?25hDownloading netCDF4-1.7.2-cp311-cp311-manylinux_2_17_x86_64.manylinux2014_x86_64.whl (9.3 MB)\n",
            "\u001b[2K   \u001b[90m━━━━━━━━━━━━━━━━━━━━━━━━━━━━━━━━━━━━━━━━\u001b[0m \u001b[32m9.3/9.3 MB\u001b[0m \u001b[31m38.6 MB/s\u001b[0m eta \u001b[36m0:00:00\u001b[0m\n",
            "\u001b[?25hDownloading cftime-1.6.4.post1-cp311-cp311-manylinux_2_17_x86_64.manylinux2014_x86_64.whl (1.4 MB)\n",
            "\u001b[2K   \u001b[90m━━━━━━━━━━━━━━━━━━━━━━━━━━━━━━━━━━━━━━━━\u001b[0m \u001b[32m1.4/1.4 MB\u001b[0m \u001b[31m47.9 MB/s\u001b[0m eta \u001b[36m0:00:00\u001b[0m\n",
            "\u001b[?25hInstalling collected packages: cftime, netCDF4, mne_connectivity\n",
            "Successfully installed cftime-1.6.4.post1 mne_connectivity-0.7.0 netCDF4-1.7.2\n"
          ]
        }
      ]
    },
    {
      "cell_type": "code",
      "source": [
        "%load_ext autoreload\n",
        "%autoreload 2"
      ],
      "metadata": {
        "id": "9IdB_9afBMuq"
      },
      "execution_count": 4,
      "outputs": []
    },
    {
      "cell_type": "markdown",
      "source": [
        "### Data preprocessing (Split into epochs)"
      ],
      "metadata": {
        "id": "VmK8HG6MBWR1"
      }
    },
    {
      "cell_type": "code",
      "source": [
        "from src.data_processing.load_data import *"
      ],
      "metadata": {
        "id": "BNL-mJV1Bjcc"
      },
      "execution_count": 5,
      "outputs": []
    },
    {
      "cell_type": "code",
      "source": [
        "# process_data(duration=4, overlap=2, classes= {'A': 1, 'C': 0})\n",
        "# process_data(duration=4, overlap=0, classes= {'A': 1, 'C': 0})"
      ],
      "metadata": {
        "id": "mjb3zZlRCvNm",
        "collapsed": true
      },
      "execution_count": 6,
      "outputs": []
    },
    {
      "cell_type": "code",
      "source": [
        "subject_datas, targets = load_processed_data(duration=4, overlap=2, processed_path=PROCESSED_DATA_PATH)"
      ],
      "metadata": {
        "id": "cwkoo5WMH4Wp"
      },
      "execution_count": 7,
      "outputs": []
    },
    {
      "cell_type": "code",
      "source": [
        "print(f\"subject data type: {type(subject_datas)}\")\n",
        "shapes = []\n",
        "for subject in subject_datas:\n",
        "    shapes.append(subject.shape)\n",
        "print(shapes)\n",
        "print(f\"targets type: {type(targets)}\")\n",
        "print(f\"targets: {targets}\")"
      ],
      "metadata": {
        "colab": {
          "base_uri": "https://localhost:8080/"
        },
        "id": "Y_HqStP_LtYV",
        "outputId": "baadfb44-58f0-4623-ad3d-5cc2f6d2b1fe"
      },
      "execution_count": 8,
      "outputs": [
        {
          "output_type": "stream",
          "name": "stdout",
          "text": [
            "subject data type: <class 'list'>\n",
            "[(298, 19, 2000), (395, 19, 2000), (152, 19, 2000), (352, 19, 2000), (401, 19, 2000), (315, 19, 2000), (382, 19, 2000), (395, 19, 2000), (305, 19, 2000), (639, 19, 2000), (383, 19, 2000), (440, 19, 2000), (418, 19, 2000), (466, 19, 2000), (449, 19, 2000), (485, 19, 2000), (420, 19, 2000), (421, 19, 2000), (458, 19, 2000), (433, 19, 2000), (459, 19, 2000), (409, 19, 2000), (416, 19, 2000), (378, 19, 2000), (341, 19, 2000), (448, 19, 2000), (412, 19, 2000), (408, 19, 2000), (367, 19, 2000), (276, 19, 2000), (574, 19, 2000), (397, 19, 2000), (351, 19, 2000), (483, 19, 2000), (369, 19, 2000), (419, 19, 2000), (387, 19, 2000), (444, 19, 2000), (424, 19, 2000), (481, 19, 2000), (442, 19, 2000), (480, 19, 2000), (413, 19, 2000), (439, 19, 2000), (424, 19, 2000), (375, 19, 2000), (402, 19, 2000), (493, 19, 2000), (389, 19, 2000), (407, 19, 2000), (375, 19, 2000), (379, 19, 2000), (389, 19, 2000), (417, 19, 2000), (406, 19, 2000), (394, 19, 2000), (397, 19, 2000), (377, 19, 2000), (392, 19, 2000), (373, 19, 2000), (400, 19, 2000), (448, 19, 2000), (401, 19, 2000), (423, 19, 2000), (441, 19, 2000)]\n",
            "targets type: <class 'list'>\n",
            "targets: [1, 1, 1, 1, 1, 1, 1, 1, 1, 1, 1, 1, 1, 1, 1, 1, 1, 1, 1, 1, 1, 1, 1, 1, 1, 1, 1, 1, 1, 1, 1, 1, 1, 1, 1, 1, 0, 0, 0, 0, 0, 0, 0, 0, 0, 0, 0, 0, 0, 0, 0, 0, 0, 0, 0, 0, 0, 0, 0, 0, 0, 0, 0, 0, 0]\n"
          ]
        }
      ]
    },
    {
      "cell_type": "markdown",
      "source": [
        "### Feature extraction"
      ],
      "metadata": {
        "id": "-eJynHFEOe1M"
      }
    },
    {
      "cell_type": "code",
      "source": [
        "from src.data_processing.feature_extraction import PsdFeature, RbpFeature, SccFeature, MeanFeature, VarianceFeature, FlattenFeature, FeaturePipeline"
      ],
      "metadata": {
        "id": "EsZaE7eRcWEb"
      },
      "execution_count": 11,
      "outputs": []
    },
    {
      "cell_type": "code",
      "source": [
        "feature_extractors = [RbpFeature()]"
      ],
      "metadata": {
        "id": "f-s5e2pCOd8t"
      },
      "execution_count": 12,
      "outputs": []
    },
    {
      "cell_type": "code",
      "source": [
        "pipeline = FeaturePipeline(feature_extractors)"
      ],
      "metadata": {
        "id": "xHtP82eaVtCL"
      },
      "execution_count": 13,
      "outputs": []
    },
    {
      "cell_type": "code",
      "source": [
        "features = []\n",
        "for subject in subject_datas:\n",
        "  feature = pipeline.run(subject, sfreq=500)\n",
        "  features.append(feature)\n",
        "\n",
        "print(f\"features type: {type(features)}\")\n",
        "print(f\"features shape: {features[0].shape}\")"
      ],
      "metadata": {
        "colab": {
          "base_uri": "https://localhost:8080/"
        },
        "id": "tqBSrm7UarKm",
        "outputId": "46d75b19-3035-4be4-8117-74c6e0bf71f8"
      },
      "execution_count": 14,
      "outputs": [
        {
          "output_type": "stream",
          "name": "stdout",
          "text": [
            "features type: <class 'list'>\n",
            "features shape: (298, 19, 5)\n"
          ]
        }
      ]
    },
    {
      "cell_type": "markdown",
      "source": [
        "### Test full pipeline"
      ],
      "metadata": {
        "id": "gKbzUDB8dlXQ"
      }
    },
    {
      "cell_type": "code",
      "source": [
        "len(targets)"
      ],
      "metadata": {
        "colab": {
          "base_uri": "https://localhost:8080/"
        },
        "id": "FdvQAH4wiRaO",
        "outputId": "4c60d7da-b283-4807-afac-ccd988bc53c8"
      },
      "execution_count": null,
      "outputs": [
        {
          "output_type": "execute_result",
          "data": {
            "text/plain": [
              "65"
            ]
          },
          "metadata": {},
          "execution_count": 15
        }
      ]
    },
    {
      "cell_type": "code",
      "source": [
        "import numpy as np\n",
        "\n",
        "from sklearn.neighbors import KNeighborsClassifier\n",
        "from sklearn.preprocessing import StandardScaler\n",
        "\n",
        "from src.validation.cross_validation import LOSOCV  # Import the LOSOCV class\n",
        "\n",
        "# 1. Process data (Sliding window + Feature extraction)\n",
        "# 2. Define a KNN Model (you can replace this with any model that has fit/predict methods)\n",
        "knn_model = KNeighborsClassifier(n_neighbors=3)\n",
        "\n",
        "# 3. Run the Model\n",
        "loocv = LOSOCV(knn_model) # Run all of the data\n",
        "train_metrics, test_metrics = loocv.run(features, targets)\n",
        "\n",
        "print(f\"Train Metrics: {train_metrics}\")\n",
        "print(f\"Test Metrics: {test_metrics}\")\n",
        "\n",
        "#Optional: Run the data on smaller sample size\n",
        "n_folds = 3 # Set the number of folds\n",
        "random_state = 42 # Set some number for the random_state\n",
        "loocv_partial = LOSOCV(knn_model, metrics=['accuracy', 'f1'], n_folds = n_folds, random_state = random_state)  # Run all of the data with metrics limited to the  accuracy and f1\n",
        "train_metrics, test_metrics = loocv_partial.run(features, targets) # Now get training metrics\n",
        "\n",
        "print(f\"Test Partial Data: {test_metrics}\")"
      ],
      "metadata": {
        "colab": {
          "base_uri": "https://localhost:8080/"
        },
        "id": "WKdyUvjcakJc",
        "outputId": "2c9cfb04-0a19-46a7-ae08-4afe59d73929"
      },
      "execution_count": null,
      "outputs": [
        {
          "output_type": "stream",
          "name": "stdout",
          "text": [
            "Train Metrics: {'accuracy': 0.9195897514107061, 'sensitivity': 0.9302194710185706, 'specificity': 0.907009657009657, 'f1': 0.9261477045908183}\n",
            "Test Metrics: {'accuracy': 0.6577181208053692, 'sensitivity': 0.6577181208053692, 'specificity': 0, 'f1': 0.7935222672064777}\n",
            "Test Partial Data: {'accuracy': 0.26634382566585957, 'f1': 0}\n"
          ]
        }
      ]
    },
    {
      "cell_type": "markdown",
      "source": [
        "### Knn with Rbp and mean"
      ],
      "metadata": {
        "id": "EmDYHNOZli51"
      }
    },
    {
      "cell_type": "code",
      "source": [
        "from sklearn.neighbors import KNeighborsClassifier\n",
        "\n",
        "from src.validation.cross_validation import LOSOCV  # Import the LOSOCV class\n",
        "\n",
        "# 1. Process data (Sliding window + Feature extraction)\n",
        "feature_extractors = [RbpFeature()]\n",
        "pipeline = FeaturePipeline(feature_extractors)\n",
        "features = []\n",
        "for subject in subject_datas:\n",
        "  feature = pipeline.run(subject, sfreq=500)\n",
        "  features.append(feature)\n",
        "\n",
        "# 2. Define a KNN Model (you can replace this with any model that has fit/predict methods)\n",
        "knn_model = KNeighborsClassifier(n_neighbors=3)\n",
        "\n",
        "# 3. Run the Model\n",
        "loocv = LOSOCV(knn_model) # Run all of the data\n",
        "train_metrics, test_metrics = loocv.run(features, targets)\n",
        "\n",
        "print(f\"Train Metrics: {train_metrics}\")\n",
        "print(f\"Test Metrics: {test_metrics}\")"
      ],
      "metadata": {
        "id": "DDWN0SDglgBx",
        "colab": {
          "base_uri": "https://localhost:8080/"
        },
        "outputId": "c94d5998-7136-4a54-81fa-a443749ecc39"
      },
      "execution_count": 15,
      "outputs": [
        {
          "output_type": "stream",
          "name": "stdout",
          "text": [
            "Train Metrics: {'accuracy': 0.9195897514107061, 'sensitivity': 0.9302194710185706, 'specificity': 0.907009657009657, 'f1': 0.9261477045908183}\n",
            "Test Metrics: {'accuracy': 0.6577181208053692, 'sensitivity': 0.6577181208053692, 'specificity': 0, 'f1': 0.7935222672064777}\n"
          ]
        }
      ]
    },
    {
      "cell_type": "markdown",
      "source": [
        "#### Experiment with some traditional ML models"
      ],
      "metadata": {
        "id": "lRFKd2UZggEK"
      }
    },
    {
      "cell_type": "code",
      "source": [
        "import numpy as np\n",
        "import pandas as pd\n",
        "from sklearn.neighbors import KNeighborsClassifier\n",
        "from sklearn.ensemble import RandomForestClassifier\n",
        "from sklearn.svm import SVC\n",
        "from sklearn.neural_network import MLPClassifier\n",
        "import lightgbm as lgb\n",
        "from hyperopt import fmin, tpe, hp, Trials\n",
        "from src.validation.cross_validation import LOSOCV  # Import the LOSOCV class\n",
        "\n",
        "# 1. Process data (Sliding window + Feature extraction)\n",
        "feature_extractors = [RbpFeature()]\n",
        "pipeline = FeaturePipeline(feature_extractors)\n",
        "features = []\n",
        "for subject in subject_datas:\n",
        "    feature = pipeline.run(subject, sfreq=500)\n",
        "    features.append(feature)\n",
        "\n",
        "# Define models\n",
        "models = {\n",
        "    \"KNN (k=3)\": KNeighborsClassifier(n_neighbors=3),\n",
        "    \"Random Forest\": RandomForestClassifier(n_estimators=100, random_state=42),\n",
        "    \"SVM (Poly Kernel)\": SVC(kernel='poly', degree=3, probability=True),\n",
        "    \"MLP (1 Hidden Layer, 3 Neurons)\": MLPClassifier(hidden_layer_sizes=(3,), max_iter=500, random_state=42),\n",
        "}\n",
        "\n",
        "# Hyperparameter optimization for LightGBM\n",
        "space = {\n",
        "    'num_leaves': hp.choice('num_leaves', range(10, 50)),\n",
        "    'learning_rate': hp.uniform('learning_rate', 0.01, 0.2),\n",
        "    'n_estimators': hp.choice('n_estimators', range(50, 200))\n",
        "}\n",
        "\n",
        "def objective(params):\n",
        "    model = lgb.LGBMClassifier(**params, random_state=42)\n",
        "    loocv = LOSOCV(model)\n",
        "    _, test_metrics = loocv.run(features, targets)\n",
        "    return -test_metrics['accuracy']  # Minimize negative accuracy\n",
        "\n",
        "best_params = fmin(fn=objective, space=space, algo=tpe.suggest, max_evals=20, trials=Trials())\n",
        "\n",
        "models[\"LightGBM (Optimized)\"] = lgb.LGBMClassifier(**best_params, random_state=42)\n",
        "\n",
        "# Run models and collect results\n",
        "results = []\n",
        "for name, model in models.items():\n",
        "    loocv = LOSOCV(model)\n",
        "    _, test_metrics = loocv.run(features, targets)\n",
        "    results.append({\"Model\": name, \"Accuracy\": test_metrics[\"accuracy\"]})\n",
        "\n",
        "# Convert results to DataFrame and sort by accuracy\n",
        "results_df = pd.DataFrame(results).sort_values(by=\"Accuracy\")\n",
        "\n",
        "# Print table\n",
        "print(results_df.to_string(index=False))\n"
      ],
      "metadata": {
        "colab": {
          "base_uri": "https://localhost:8080/"
        },
        "id": "GBXsU8r-expi",
        "outputId": "adfd9509-4ee7-4718-ed33-d7141bd966f0"
      },
      "execution_count": 16,
      "outputs": [
        {
          "output_type": "stream",
          "name": "stderr",
          "text": [
            "/usr/local/lib/python3.11/dist-packages/dask/dataframe/__init__.py:42: FutureWarning: \n",
            "Dask dataframe query planning is disabled because dask-expr is not installed.\n",
            "\n",
            "You can install it with `pip install dask[dataframe]` or `conda install dask`.\n",
            "This will raise in a future version.\n",
            "\n",
            "  warnings.warn(msg, FutureWarning)\n"
          ]
        },
        {
          "output_type": "stream",
          "name": "stdout",
          "text": [
            "\r  0%|          | 0/20 [00:00<?, ?trial/s, best loss=?]"
          ]
        },
        {
          "output_type": "stream",
          "name": "stderr",
          "text": [
            "/usr/local/lib/python3.11/dist-packages/sklearn/utils/deprecation.py:151: FutureWarning: 'force_all_finite' was renamed to 'ensure_all_finite' in 1.6 and will be removed in 1.8.\n",
            "  warnings.warn(\n",
            "\n"
          ]
        },
        {
          "output_type": "stream",
          "name": "stdout",
          "text": [
            "[LightGBM] [Info] Number of positive: 14216, number of negative: 12012\n",
            "[LightGBM] [Info] Auto-choosing col-wise multi-threading, the overhead of testing was 0.024000 seconds.\n",
            "You can set `force_col_wise=true` to remove the overhead.\n",
            "[LightGBM] [Info] Total Bins 24225\n",
            "[LightGBM] [Info] Number of data points in the train set: 26228, number of used features: 95\n",
            "[LightGBM] [Info] [binary:BoostFromScore]: pavg=0.542016 -> initscore=0.168462\n",
            "[LightGBM] [Info] Start training from score 0.168462\n",
            "  5%|▌         | 1/20 [00:02<00:55,  2.94s/trial, best loss: -0.9731543624161074]"
          ]
        },
        {
          "output_type": "stream",
          "name": "stderr",
          "text": [
            "/usr/local/lib/python3.11/dist-packages/sklearn/utils/deprecation.py:151: FutureWarning: 'force_all_finite' was renamed to 'ensure_all_finite' in 1.6 and will be removed in 1.8.\n",
            "  warnings.warn(\n",
            "\n",
            "/usr/local/lib/python3.11/dist-packages/sklearn/utils/deprecation.py:151: FutureWarning: 'force_all_finite' was renamed to 'ensure_all_finite' in 1.6 and will be removed in 1.8.\n",
            "  warnings.warn(\n",
            "\n",
            "/usr/local/lib/python3.11/dist-packages/sklearn/utils/deprecation.py:151: FutureWarning: 'force_all_finite' was renamed to 'ensure_all_finite' in 1.6 and will be removed in 1.8.\n",
            "  warnings.warn(\n",
            "\n"
          ]
        },
        {
          "output_type": "stream",
          "name": "stdout",
          "text": [
            "[LightGBM] [Info] Number of positive: 14216, number of negative: 12012\n",
            "[LightGBM] [Info] Auto-choosing col-wise multi-threading, the overhead of testing was 0.023020 seconds.\n",
            "You can set `force_col_wise=true` to remove the overhead.\n",
            "[LightGBM] [Info] Total Bins 24225\n",
            "[LightGBM] [Info] Number of data points in the train set: 26228, number of used features: 95\n",
            "[LightGBM] [Info] [binary:BoostFromScore]: pavg=0.542016 -> initscore=0.168462\n",
            "[LightGBM] [Info] Start training from score 0.168462\n",
            " 10%|█         | 2/20 [00:06<00:57,  3.19s/trial, best loss: -0.9731543624161074]"
          ]
        },
        {
          "output_type": "stream",
          "name": "stderr",
          "text": [
            "/usr/local/lib/python3.11/dist-packages/sklearn/utils/deprecation.py:151: FutureWarning: 'force_all_finite' was renamed to 'ensure_all_finite' in 1.6 and will be removed in 1.8.\n",
            "  warnings.warn(\n",
            "\n",
            "/usr/local/lib/python3.11/dist-packages/sklearn/utils/deprecation.py:151: FutureWarning: 'force_all_finite' was renamed to 'ensure_all_finite' in 1.6 and will be removed in 1.8.\n",
            "  warnings.warn(\n",
            "\n",
            "/usr/local/lib/python3.11/dist-packages/sklearn/utils/deprecation.py:151: FutureWarning: 'force_all_finite' was renamed to 'ensure_all_finite' in 1.6 and will be removed in 1.8.\n",
            "  warnings.warn(\n",
            "\n"
          ]
        },
        {
          "output_type": "stream",
          "name": "stdout",
          "text": [
            "[LightGBM] [Info] Number of positive: 14216, number of negative: 12012\n",
            "[LightGBM] [Info] Auto-choosing col-wise multi-threading, the overhead of testing was 0.023887 seconds.\n",
            "You can set `force_col_wise=true` to remove the overhead.\n",
            "[LightGBM] [Info] Total Bins 24225\n",
            "[LightGBM] [Info] Number of data points in the train set: 26228, number of used features: 95\n",
            "[LightGBM] [Info] [binary:BoostFromScore]: pavg=0.542016 -> initscore=0.168462\n",
            "[LightGBM] [Info] Start training from score 0.168462\n",
            " 15%|█▌        | 3/20 [00:08<00:47,  2.78s/trial, best loss: -0.9731543624161074]"
          ]
        },
        {
          "output_type": "stream",
          "name": "stderr",
          "text": [
            "/usr/local/lib/python3.11/dist-packages/sklearn/utils/deprecation.py:151: FutureWarning: 'force_all_finite' was renamed to 'ensure_all_finite' in 1.6 and will be removed in 1.8.\n",
            "  warnings.warn(\n",
            "\n",
            "/usr/local/lib/python3.11/dist-packages/sklearn/utils/deprecation.py:151: FutureWarning: 'force_all_finite' was renamed to 'ensure_all_finite' in 1.6 and will be removed in 1.8.\n",
            "  warnings.warn(\n",
            "\n",
            "/usr/local/lib/python3.11/dist-packages/sklearn/utils/deprecation.py:151: FutureWarning: 'force_all_finite' was renamed to 'ensure_all_finite' in 1.6 and will be removed in 1.8.\n",
            "  warnings.warn(\n",
            "\n"
          ]
        },
        {
          "output_type": "stream",
          "name": "stdout",
          "text": [
            "[LightGBM] [Info] Number of positive: 14216, number of negative: 12012\n",
            "[LightGBM] [Info] Auto-choosing col-wise multi-threading, the overhead of testing was 0.023424 seconds.\n",
            "You can set `force_col_wise=true` to remove the overhead.\n",
            "[LightGBM] [Info] Total Bins 24225\n",
            "[LightGBM] [Info] Number of data points in the train set: 26228, number of used features: 95\n",
            "[LightGBM] [Info] [binary:BoostFromScore]: pavg=0.542016 -> initscore=0.168462\n",
            "[LightGBM] [Info] Start training from score 0.168462\n",
            " 15%|█▌        | 3/20 [00:09<00:47,  2.78s/trial, best loss: -0.9731543624161074]"
          ]
        },
        {
          "output_type": "stream",
          "name": "stderr",
          "text": [
            "/usr/local/lib/python3.11/dist-packages/sklearn/utils/deprecation.py:151: FutureWarning: 'force_all_finite' was renamed to 'ensure_all_finite' in 1.6 and will be removed in 1.8.\n",
            "  warnings.warn(\n",
            "\n",
            "/usr/local/lib/python3.11/dist-packages/sklearn/utils/deprecation.py:151: FutureWarning: 'force_all_finite' was renamed to 'ensure_all_finite' in 1.6 and will be removed in 1.8.\n",
            "  warnings.warn(\n",
            "\n"
          ]
        },
        {
          "output_type": "stream",
          "name": "stdout",
          "text": [
            "\r 20%|██        | 4/20 [00:11<00:45,  2.87s/trial, best loss: -0.9731543624161074]"
          ]
        },
        {
          "output_type": "stream",
          "name": "stderr",
          "text": [
            "/usr/local/lib/python3.11/dist-packages/sklearn/utils/deprecation.py:151: FutureWarning: 'force_all_finite' was renamed to 'ensure_all_finite' in 1.6 and will be removed in 1.8.\n",
            "  warnings.warn(\n",
            "\n"
          ]
        },
        {
          "output_type": "stream",
          "name": "stdout",
          "text": [
            "[LightGBM] [Info] Number of positive: 14216, number of negative: 12012\n",
            "[LightGBM] [Info] Auto-choosing col-wise multi-threading, the overhead of testing was 0.023956 seconds.\n",
            "You can set `force_col_wise=true` to remove the overhead.\n",
            "[LightGBM] [Info] Total Bins 24225\n",
            "[LightGBM] [Info] Number of data points in the train set: 26228, number of used features: 95\n",
            "[LightGBM] [Info] [binary:BoostFromScore]: pavg=0.542016 -> initscore=0.168462\n",
            "[LightGBM] [Info] Start training from score 0.168462\n",
            " 20%|██        | 4/20 [00:12<00:45,  2.87s/trial, best loss: -0.9731543624161074]"
          ]
        },
        {
          "output_type": "stream",
          "name": "stderr",
          "text": [
            "/usr/local/lib/python3.11/dist-packages/sklearn/utils/deprecation.py:151: FutureWarning: 'force_all_finite' was renamed to 'ensure_all_finite' in 1.6 and will be removed in 1.8.\n",
            "  warnings.warn(\n",
            "\n"
          ]
        },
        {
          "output_type": "stream",
          "name": "stdout",
          "text": [
            "\r 25%|██▌       | 5/20 [00:15<00:47,  3.16s/trial, best loss: -0.9731543624161074]"
          ]
        },
        {
          "output_type": "stream",
          "name": "stderr",
          "text": [
            "/usr/local/lib/python3.11/dist-packages/sklearn/utils/deprecation.py:151: FutureWarning: 'force_all_finite' was renamed to 'ensure_all_finite' in 1.6 and will be removed in 1.8.\n",
            "  warnings.warn(\n",
            "\n",
            "/usr/local/lib/python3.11/dist-packages/sklearn/utils/deprecation.py:151: FutureWarning: 'force_all_finite' was renamed to 'ensure_all_finite' in 1.6 and will be removed in 1.8.\n",
            "  warnings.warn(\n",
            "\n"
          ]
        },
        {
          "output_type": "stream",
          "name": "stdout",
          "text": [
            "[LightGBM] [Info] Number of positive: 14216, number of negative: 12012\n",
            "[LightGBM] [Info] Auto-choosing col-wise multi-threading, the overhead of testing was 0.038590 seconds.\n",
            "You can set `force_col_wise=true` to remove the overhead.\n",
            "[LightGBM] [Info] Total Bins 24225\n",
            "[LightGBM] [Info] Number of data points in the train set: 26228, number of used features: 95\n",
            "[LightGBM] [Info] [binary:BoostFromScore]: pavg=0.542016 -> initscore=0.168462\n",
            "[LightGBM] [Info] Start training from score 0.168462\n",
            " 25%|██▌       | 5/20 [00:15<00:47,  3.16s/trial, best loss: -0.9731543624161074]"
          ]
        },
        {
          "output_type": "stream",
          "name": "stderr",
          "text": [
            "/usr/local/lib/python3.11/dist-packages/sklearn/utils/deprecation.py:151: FutureWarning: 'force_all_finite' was renamed to 'ensure_all_finite' in 1.6 and will be removed in 1.8.\n",
            "  warnings.warn(\n",
            "\n"
          ]
        },
        {
          "output_type": "stream",
          "name": "stdout",
          "text": [
            "\r 30%|███       | 6/20 [00:21<00:56,  4.05s/trial, best loss: -0.9731543624161074]"
          ]
        },
        {
          "output_type": "stream",
          "name": "stderr",
          "text": [
            "/usr/local/lib/python3.11/dist-packages/sklearn/utils/deprecation.py:151: FutureWarning: 'force_all_finite' was renamed to 'ensure_all_finite' in 1.6 and will be removed in 1.8.\n",
            "  warnings.warn(\n",
            "\n",
            "/usr/local/lib/python3.11/dist-packages/sklearn/utils/deprecation.py:151: FutureWarning: 'force_all_finite' was renamed to 'ensure_all_finite' in 1.6 and will be removed in 1.8.\n",
            "  warnings.warn(\n",
            "\n"
          ]
        },
        {
          "output_type": "stream",
          "name": "stdout",
          "text": [
            "[LightGBM] [Info] Number of positive: 14216, number of negative: 12012\n",
            "[LightGBM] [Info] Auto-choosing col-wise multi-threading, the overhead of testing was 0.023161 seconds.\n",
            "You can set `force_col_wise=true` to remove the overhead.\n",
            "[LightGBM] [Info] Total Bins 24225\n",
            "[LightGBM] [Info] Number of data points in the train set: 26228, number of used features: 95\n",
            "[LightGBM] [Info] [binary:BoostFromScore]: pavg=0.542016 -> initscore=0.168462\n",
            "[LightGBM] [Info] Start training from score 0.168462\n",
            " 35%|███▌      | 7/20 [00:22<00:42,  3.24s/trial, best loss: -0.9731543624161074]"
          ]
        },
        {
          "output_type": "stream",
          "name": "stderr",
          "text": [
            "/usr/local/lib/python3.11/dist-packages/sklearn/utils/deprecation.py:151: FutureWarning: 'force_all_finite' was renamed to 'ensure_all_finite' in 1.6 and will be removed in 1.8.\n",
            "  warnings.warn(\n",
            "\n",
            "/usr/local/lib/python3.11/dist-packages/sklearn/utils/deprecation.py:151: FutureWarning: 'force_all_finite' was renamed to 'ensure_all_finite' in 1.6 and will be removed in 1.8.\n",
            "  warnings.warn(\n",
            "\n",
            "/usr/local/lib/python3.11/dist-packages/sklearn/utils/deprecation.py:151: FutureWarning: 'force_all_finite' was renamed to 'ensure_all_finite' in 1.6 and will be removed in 1.8.\n",
            "  warnings.warn(\n",
            "\n"
          ]
        },
        {
          "output_type": "stream",
          "name": "stdout",
          "text": [
            "[LightGBM] [Info] Number of positive: 14216, number of negative: 12012\n",
            "[LightGBM] [Info] Auto-choosing col-wise multi-threading, the overhead of testing was 0.023987 seconds.\n",
            "You can set `force_col_wise=true` to remove the overhead.\n",
            "[LightGBM] [Info] Total Bins 24225\n",
            "[LightGBM] [Info] Number of data points in the train set: 26228, number of used features: 95\n",
            "[LightGBM] [Info] [binary:BoostFromScore]: pavg=0.542016 -> initscore=0.168462\n",
            "[LightGBM] [Info] Start training from score 0.168462\n",
            " 35%|███▌      | 7/20 [00:23<00:42,  3.24s/trial, best loss: -0.9731543624161074]"
          ]
        },
        {
          "output_type": "stream",
          "name": "stderr",
          "text": [
            "/usr/local/lib/python3.11/dist-packages/sklearn/utils/deprecation.py:151: FutureWarning: 'force_all_finite' was renamed to 'ensure_all_finite' in 1.6 and will be removed in 1.8.\n",
            "  warnings.warn(\n",
            "\n"
          ]
        },
        {
          "output_type": "stream",
          "name": "stdout",
          "text": [
            "\r 40%|████      | 8/20 [00:26<00:41,  3.46s/trial, best loss: -0.9731543624161074]"
          ]
        },
        {
          "output_type": "stream",
          "name": "stderr",
          "text": [
            "/usr/local/lib/python3.11/dist-packages/sklearn/utils/deprecation.py:151: FutureWarning: 'force_all_finite' was renamed to 'ensure_all_finite' in 1.6 and will be removed in 1.8.\n",
            "  warnings.warn(\n",
            "\n",
            "/usr/local/lib/python3.11/dist-packages/sklearn/utils/deprecation.py:151: FutureWarning: 'force_all_finite' was renamed to 'ensure_all_finite' in 1.6 and will be removed in 1.8.\n",
            "  warnings.warn(\n",
            "\n"
          ]
        },
        {
          "output_type": "stream",
          "name": "stdout",
          "text": [
            "[LightGBM] [Info] Number of positive: 14216, number of negative: 12012\n",
            "[LightGBM] [Info] Auto-choosing col-wise multi-threading, the overhead of testing was 0.025036 seconds.\n",
            "You can set `force_col_wise=true` to remove the overhead.\n",
            "[LightGBM] [Info] Total Bins 24225\n",
            "[LightGBM] [Info] Number of data points in the train set: 26228, number of used features: 95\n",
            "[LightGBM] [Info] [binary:BoostFromScore]: pavg=0.542016 -> initscore=0.168462\n",
            "[LightGBM] [Info] Start training from score 0.168462\n",
            " 45%|████▌     | 9/20 [00:29<00:36,  3.32s/trial, best loss: -0.9731543624161074]"
          ]
        },
        {
          "output_type": "stream",
          "name": "stderr",
          "text": [
            "/usr/local/lib/python3.11/dist-packages/sklearn/utils/deprecation.py:151: FutureWarning: 'force_all_finite' was renamed to 'ensure_all_finite' in 1.6 and will be removed in 1.8.\n",
            "  warnings.warn(\n",
            "\n",
            "/usr/local/lib/python3.11/dist-packages/sklearn/utils/deprecation.py:151: FutureWarning: 'force_all_finite' was renamed to 'ensure_all_finite' in 1.6 and will be removed in 1.8.\n",
            "  warnings.warn(\n",
            "\n",
            "/usr/local/lib/python3.11/dist-packages/sklearn/utils/deprecation.py:151: FutureWarning: 'force_all_finite' was renamed to 'ensure_all_finite' in 1.6 and will be removed in 1.8.\n",
            "  warnings.warn(\n",
            "\n"
          ]
        },
        {
          "output_type": "stream",
          "name": "stdout",
          "text": [
            "[LightGBM] [Info] Number of positive: 14216, number of negative: 12012\n",
            "[LightGBM] [Info] Auto-choosing col-wise multi-threading, the overhead of testing was 0.026647 seconds.\n",
            "You can set `force_col_wise=true` to remove the overhead.\n",
            "[LightGBM] [Info] Total Bins 24225\n",
            "[LightGBM] [Info] Number of data points in the train set: 26228, number of used features: 95\n",
            "[LightGBM] [Info] [binary:BoostFromScore]: pavg=0.542016 -> initscore=0.168462\n",
            "[LightGBM] [Info] Start training from score 0.168462\n",
            " 50%|█████     | 10/20 [00:32<00:33,  3.32s/trial, best loss: -0.9731543624161074]"
          ]
        },
        {
          "output_type": "stream",
          "name": "stderr",
          "text": [
            "/usr/local/lib/python3.11/dist-packages/sklearn/utils/deprecation.py:151: FutureWarning: 'force_all_finite' was renamed to 'ensure_all_finite' in 1.6 and will be removed in 1.8.\n",
            "  warnings.warn(\n",
            "\n",
            "/usr/local/lib/python3.11/dist-packages/sklearn/utils/deprecation.py:151: FutureWarning: 'force_all_finite' was renamed to 'ensure_all_finite' in 1.6 and will be removed in 1.8.\n",
            "  warnings.warn(\n",
            "\n",
            "/usr/local/lib/python3.11/dist-packages/sklearn/utils/deprecation.py:151: FutureWarning: 'force_all_finite' was renamed to 'ensure_all_finite' in 1.6 and will be removed in 1.8.\n",
            "  warnings.warn(\n",
            "\n"
          ]
        },
        {
          "output_type": "stream",
          "name": "stdout",
          "text": [
            "[LightGBM] [Info] Number of positive: 14216, number of negative: 12012\n",
            "[LightGBM] [Info] Auto-choosing col-wise multi-threading, the overhead of testing was 0.024284 seconds.\n",
            "You can set `force_col_wise=true` to remove the overhead.\n",
            "[LightGBM] [Info] Total Bins 24225\n",
            "[LightGBM] [Info] Number of data points in the train set: 26228, number of used features: 95\n",
            "[LightGBM] [Info] [binary:BoostFromScore]: pavg=0.542016 -> initscore=0.168462\n",
            "[LightGBM] [Info] Start training from score 0.168462\n",
            " 50%|█████     | 10/20 [00:33<00:33,  3.32s/trial, best loss: -0.9731543624161074]"
          ]
        },
        {
          "output_type": "stream",
          "name": "stderr",
          "text": [
            "/usr/local/lib/python3.11/dist-packages/sklearn/utils/deprecation.py:151: FutureWarning: 'force_all_finite' was renamed to 'ensure_all_finite' in 1.6 and will be removed in 1.8.\n",
            "  warnings.warn(\n",
            "\n"
          ]
        },
        {
          "output_type": "stream",
          "name": "stdout",
          "text": [
            "\r 55%|█████▌    | 11/20 [00:36<00:29,  3.27s/trial, best loss: -0.9731543624161074]"
          ]
        },
        {
          "output_type": "stream",
          "name": "stderr",
          "text": [
            "/usr/local/lib/python3.11/dist-packages/sklearn/utils/deprecation.py:151: FutureWarning: 'force_all_finite' was renamed to 'ensure_all_finite' in 1.6 and will be removed in 1.8.\n",
            "  warnings.warn(\n",
            "\n",
            "/usr/local/lib/python3.11/dist-packages/sklearn/utils/deprecation.py:151: FutureWarning: 'force_all_finite' was renamed to 'ensure_all_finite' in 1.6 and will be removed in 1.8.\n",
            "  warnings.warn(\n",
            "\n"
          ]
        },
        {
          "output_type": "stream",
          "name": "stdout",
          "text": [
            "[LightGBM] [Info] Number of positive: 14216, number of negative: 12012\n",
            "[LightGBM] [Info] Auto-choosing col-wise multi-threading, the overhead of testing was 0.044473 seconds.\n",
            "You can set `force_col_wise=true` to remove the overhead.\n",
            "[LightGBM] [Info] Total Bins 24225\n",
            "[LightGBM] [Info] Number of data points in the train set: 26228, number of used features: 95\n",
            "[LightGBM] [Info] [binary:BoostFromScore]: pavg=0.542016 -> initscore=0.168462\n",
            "[LightGBM] [Info] Start training from score 0.168462\n",
            " 55%|█████▌    | 11/20 [00:36<00:29,  3.27s/trial, best loss: -0.9731543624161074]"
          ]
        },
        {
          "output_type": "stream",
          "name": "stderr",
          "text": [
            "/usr/local/lib/python3.11/dist-packages/sklearn/utils/deprecation.py:151: FutureWarning: 'force_all_finite' was renamed to 'ensure_all_finite' in 1.6 and will be removed in 1.8.\n",
            "  warnings.warn(\n",
            "\n"
          ]
        },
        {
          "output_type": "stream",
          "name": "stdout",
          "text": [
            "\r 60%|██████    | 12/20 [00:41<00:31,  3.89s/trial, best loss: -0.9731543624161074]"
          ]
        },
        {
          "output_type": "stream",
          "name": "stderr",
          "text": [
            "/usr/local/lib/python3.11/dist-packages/sklearn/utils/deprecation.py:151: FutureWarning: 'force_all_finite' was renamed to 'ensure_all_finite' in 1.6 and will be removed in 1.8.\n",
            "  warnings.warn(\n",
            "\n",
            "/usr/local/lib/python3.11/dist-packages/sklearn/utils/deprecation.py:151: FutureWarning: 'force_all_finite' was renamed to 'ensure_all_finite' in 1.6 and will be removed in 1.8.\n",
            "  warnings.warn(\n",
            "\n"
          ]
        },
        {
          "output_type": "stream",
          "name": "stdout",
          "text": [
            "[LightGBM] [Info] Number of positive: 14216, number of negative: 12012\n",
            "[LightGBM] [Info] Auto-choosing col-wise multi-threading, the overhead of testing was 0.025105 seconds.\n",
            "You can set `force_col_wise=true` to remove the overhead.\n",
            "[LightGBM] [Info] Total Bins 24225\n",
            "[LightGBM] [Info] Number of data points in the train set: 26228, number of used features: 95\n",
            "[LightGBM] [Info] [binary:BoostFromScore]: pavg=0.542016 -> initscore=0.168462\n",
            "[LightGBM] [Info] Start training from score 0.168462\n",
            " 65%|██████▌   | 13/20 [00:43<00:22,  3.28s/trial, best loss: -0.9731543624161074]"
          ]
        },
        {
          "output_type": "stream",
          "name": "stderr",
          "text": [
            "/usr/local/lib/python3.11/dist-packages/sklearn/utils/deprecation.py:151: FutureWarning: 'force_all_finite' was renamed to 'ensure_all_finite' in 1.6 and will be removed in 1.8.\n",
            "  warnings.warn(\n",
            "\n",
            "/usr/local/lib/python3.11/dist-packages/sklearn/utils/deprecation.py:151: FutureWarning: 'force_all_finite' was renamed to 'ensure_all_finite' in 1.6 and will be removed in 1.8.\n",
            "  warnings.warn(\n",
            "\n",
            "/usr/local/lib/python3.11/dist-packages/sklearn/utils/deprecation.py:151: FutureWarning: 'force_all_finite' was renamed to 'ensure_all_finite' in 1.6 and will be removed in 1.8.\n",
            "  warnings.warn(\n",
            "\n"
          ]
        },
        {
          "output_type": "stream",
          "name": "stdout",
          "text": [
            "[LightGBM] [Info] Number of positive: 14216, number of negative: 12012\n",
            "[LightGBM] [Info] Auto-choosing col-wise multi-threading, the overhead of testing was 0.024221 seconds.\n",
            "You can set `force_col_wise=true` to remove the overhead.\n",
            "[LightGBM] [Info] Total Bins 24225\n",
            "[LightGBM] [Info] Number of data points in the train set: 26228, number of used features: 95\n",
            "[LightGBM] [Info] [binary:BoostFromScore]: pavg=0.542016 -> initscore=0.168462\n",
            "[LightGBM] [Info] Start training from score 0.168462\n",
            " 70%|███████   | 14/20 [00:45<00:17,  2.97s/trial, best loss: -0.9731543624161074]"
          ]
        },
        {
          "output_type": "stream",
          "name": "stderr",
          "text": [
            "/usr/local/lib/python3.11/dist-packages/sklearn/utils/deprecation.py:151: FutureWarning: 'force_all_finite' was renamed to 'ensure_all_finite' in 1.6 and will be removed in 1.8.\n",
            "  warnings.warn(\n",
            "\n",
            "/usr/local/lib/python3.11/dist-packages/sklearn/utils/deprecation.py:151: FutureWarning: 'force_all_finite' was renamed to 'ensure_all_finite' in 1.6 and will be removed in 1.8.\n",
            "  warnings.warn(\n",
            "\n",
            "/usr/local/lib/python3.11/dist-packages/sklearn/utils/deprecation.py:151: FutureWarning: 'force_all_finite' was renamed to 'ensure_all_finite' in 1.6 and will be removed in 1.8.\n",
            "  warnings.warn(\n",
            "\n"
          ]
        },
        {
          "output_type": "stream",
          "name": "stdout",
          "text": [
            "[LightGBM] [Info] Number of positive: 14216, number of negative: 12012\n",
            "[LightGBM] [Info] Auto-choosing col-wise multi-threading, the overhead of testing was 0.027345 seconds.\n",
            "You can set `force_col_wise=true` to remove the overhead.\n",
            "[LightGBM] [Info] Total Bins 24225\n",
            "[LightGBM] [Info] Number of data points in the train set: 26228, number of used features: 95\n",
            "[LightGBM] [Info] [binary:BoostFromScore]: pavg=0.542016 -> initscore=0.168462\n",
            "[LightGBM] [Info] Start training from score 0.168462\n",
            " 70%|███████   | 14/20 [00:46<00:17,  2.97s/trial, best loss: -0.9731543624161074]"
          ]
        },
        {
          "output_type": "stream",
          "name": "stderr",
          "text": [
            "/usr/local/lib/python3.11/dist-packages/sklearn/utils/deprecation.py:151: FutureWarning: 'force_all_finite' was renamed to 'ensure_all_finite' in 1.6 and will be removed in 1.8.\n",
            "  warnings.warn(\n",
            "\n"
          ]
        },
        {
          "output_type": "stream",
          "name": "stdout",
          "text": [
            "\r 75%|███████▌  | 15/20 [00:49<00:17,  3.41s/trial, best loss: -0.9731543624161074]"
          ]
        },
        {
          "output_type": "stream",
          "name": "stderr",
          "text": [
            "/usr/local/lib/python3.11/dist-packages/sklearn/utils/deprecation.py:151: FutureWarning: 'force_all_finite' was renamed to 'ensure_all_finite' in 1.6 and will be removed in 1.8.\n",
            "  warnings.warn(\n",
            "\n",
            "/usr/local/lib/python3.11/dist-packages/sklearn/utils/deprecation.py:151: FutureWarning: 'force_all_finite' was renamed to 'ensure_all_finite' in 1.6 and will be removed in 1.8.\n",
            "  warnings.warn(\n",
            "\n"
          ]
        },
        {
          "output_type": "stream",
          "name": "stdout",
          "text": [
            "[LightGBM] [Info] Number of positive: 14216, number of negative: 12012\n",
            "[LightGBM] [Info] Auto-choosing col-wise multi-threading, the overhead of testing was 0.024995 seconds.\n",
            "You can set `force_col_wise=true` to remove the overhead.\n",
            "[LightGBM] [Info] Total Bins 24225\n",
            "[LightGBM] [Info] Number of data points in the train set: 26228, number of used features: 95\n",
            "[LightGBM] [Info] [binary:BoostFromScore]: pavg=0.542016 -> initscore=0.168462\n",
            "[LightGBM] [Info] Start training from score 0.168462\n",
            " 80%|████████  | 16/20 [00:52<00:12,  3.16s/trial, best loss: -0.9731543624161074]"
          ]
        },
        {
          "output_type": "stream",
          "name": "stderr",
          "text": [
            "/usr/local/lib/python3.11/dist-packages/sklearn/utils/deprecation.py:151: FutureWarning: 'force_all_finite' was renamed to 'ensure_all_finite' in 1.6 and will be removed in 1.8.\n",
            "  warnings.warn(\n",
            "\n",
            "/usr/local/lib/python3.11/dist-packages/sklearn/utils/deprecation.py:151: FutureWarning: 'force_all_finite' was renamed to 'ensure_all_finite' in 1.6 and will be removed in 1.8.\n",
            "  warnings.warn(\n",
            "\n",
            "/usr/local/lib/python3.11/dist-packages/sklearn/utils/deprecation.py:151: FutureWarning: 'force_all_finite' was renamed to 'ensure_all_finite' in 1.6 and will be removed in 1.8.\n",
            "  warnings.warn(\n",
            "\n"
          ]
        },
        {
          "output_type": "stream",
          "name": "stdout",
          "text": [
            "[LightGBM] [Info] Number of positive: 14216, number of negative: 12012\n",
            "[LightGBM] [Info] Auto-choosing col-wise multi-threading, the overhead of testing was 0.034574 seconds.\n",
            "You can set `force_col_wise=true` to remove the overhead.\n",
            "[LightGBM] [Info] Total Bins 24225\n",
            "[LightGBM] [Info] Number of data points in the train set: 26228, number of used features: 95\n",
            "[LightGBM] [Info] [binary:BoostFromScore]: pavg=0.542016 -> initscore=0.168462\n",
            "[LightGBM] [Info] Start training from score 0.168462\n",
            " 85%|████████▌ | 17/20 [00:55<00:09,  3.17s/trial, best loss: -0.9731543624161074]"
          ]
        },
        {
          "output_type": "stream",
          "name": "stderr",
          "text": [
            "/usr/local/lib/python3.11/dist-packages/sklearn/utils/deprecation.py:151: FutureWarning: 'force_all_finite' was renamed to 'ensure_all_finite' in 1.6 and will be removed in 1.8.\n",
            "  warnings.warn(\n",
            "\n",
            "/usr/local/lib/python3.11/dist-packages/sklearn/utils/deprecation.py:151: FutureWarning: 'force_all_finite' was renamed to 'ensure_all_finite' in 1.6 and will be removed in 1.8.\n",
            "  warnings.warn(\n",
            "\n",
            "/usr/local/lib/python3.11/dist-packages/sklearn/utils/deprecation.py:151: FutureWarning: 'force_all_finite' was renamed to 'ensure_all_finite' in 1.6 and will be removed in 1.8.\n",
            "  warnings.warn(\n",
            "\n"
          ]
        },
        {
          "output_type": "stream",
          "name": "stdout",
          "text": [
            "[LightGBM] [Info] Number of positive: 14216, number of negative: 12012\n",
            "[LightGBM] [Info] Auto-choosing col-wise multi-threading, the overhead of testing was 0.024018 seconds.\n",
            "You can set `force_col_wise=true` to remove the overhead.\n",
            "[LightGBM] [Info] Total Bins 24225\n",
            "[LightGBM] [Info] Number of data points in the train set: 26228, number of used features: 95\n",
            "[LightGBM] [Info] [binary:BoostFromScore]: pavg=0.542016 -> initscore=0.168462\n",
            "[LightGBM] [Info] Start training from score 0.168462\n",
            " 85%|████████▌ | 17/20 [00:56<00:09,  3.17s/trial, best loss: -0.9731543624161074]"
          ]
        },
        {
          "output_type": "stream",
          "name": "stderr",
          "text": [
            "/usr/local/lib/python3.11/dist-packages/sklearn/utils/deprecation.py:151: FutureWarning: 'force_all_finite' was renamed to 'ensure_all_finite' in 1.6 and will be removed in 1.8.\n",
            "  warnings.warn(\n",
            "\n",
            "/usr/local/lib/python3.11/dist-packages/sklearn/utils/deprecation.py:151: FutureWarning: 'force_all_finite' was renamed to 'ensure_all_finite' in 1.6 and will be removed in 1.8.\n",
            "  warnings.warn(\n",
            "\n"
          ]
        },
        {
          "output_type": "stream",
          "name": "stdout",
          "text": [
            "\r 90%|█████████ | 18/20 [00:59<00:06,  3.21s/trial, best loss: -0.9731543624161074]"
          ]
        },
        {
          "output_type": "stream",
          "name": "stderr",
          "text": [
            "/usr/local/lib/python3.11/dist-packages/sklearn/utils/deprecation.py:151: FutureWarning: 'force_all_finite' was renamed to 'ensure_all_finite' in 1.6 and will be removed in 1.8.\n",
            "  warnings.warn(\n",
            "\n"
          ]
        },
        {
          "output_type": "stream",
          "name": "stdout",
          "text": [
            "[LightGBM] [Info] Number of positive: 14216, number of negative: 12012\n",
            "[LightGBM] [Info] Auto-choosing col-wise multi-threading, the overhead of testing was 0.024331 seconds.\n",
            "You can set `force_col_wise=true` to remove the overhead.\n",
            "[LightGBM] [Info] Total Bins 24225\n",
            "[LightGBM] [Info] Number of data points in the train set: 26228, number of used features: 95\n",
            "[LightGBM] [Info] [binary:BoostFromScore]: pavg=0.542016 -> initscore=0.168462\n",
            "[LightGBM] [Info] Start training from score 0.168462\n",
            " 95%|█████████▌| 19/20 [01:01<00:03,  3.08s/trial, best loss: -0.9731543624161074]"
          ]
        },
        {
          "output_type": "stream",
          "name": "stderr",
          "text": [
            "/usr/local/lib/python3.11/dist-packages/sklearn/utils/deprecation.py:151: FutureWarning: 'force_all_finite' was renamed to 'ensure_all_finite' in 1.6 and will be removed in 1.8.\n",
            "  warnings.warn(\n",
            "\n",
            "/usr/local/lib/python3.11/dist-packages/sklearn/utils/deprecation.py:151: FutureWarning: 'force_all_finite' was renamed to 'ensure_all_finite' in 1.6 and will be removed in 1.8.\n",
            "  warnings.warn(\n",
            "\n",
            "/usr/local/lib/python3.11/dist-packages/sklearn/utils/deprecation.py:151: FutureWarning: 'force_all_finite' was renamed to 'ensure_all_finite' in 1.6 and will be removed in 1.8.\n",
            "  warnings.warn(\n",
            "\n"
          ]
        },
        {
          "output_type": "stream",
          "name": "stdout",
          "text": [
            "[LightGBM] [Info] Number of positive: 14216, number of negative: 12012\n",
            "[LightGBM] [Info] Auto-choosing col-wise multi-threading, the overhead of testing was 0.024716 seconds.\n",
            "You can set `force_col_wise=true` to remove the overhead.\n",
            "[LightGBM] [Info] Total Bins 24225\n",
            "[LightGBM] [Info] Number of data points in the train set: 26228, number of used features: 95\n",
            "[LightGBM] [Info] [binary:BoostFromScore]: pavg=0.542016 -> initscore=0.168462\n",
            "[LightGBM] [Info] Start training from score 0.168462\n",
            " 95%|█████████▌| 19/20 [01:02<00:03,  3.08s/trial, best loss: -0.9731543624161074]"
          ]
        },
        {
          "output_type": "stream",
          "name": "stderr",
          "text": [
            "/usr/local/lib/python3.11/dist-packages/sklearn/utils/deprecation.py:151: FutureWarning: 'force_all_finite' was renamed to 'ensure_all_finite' in 1.6 and will be removed in 1.8.\n",
            "  warnings.warn(\n",
            "\n"
          ]
        },
        {
          "output_type": "stream",
          "name": "stdout",
          "text": [
            "100%|██████████| 20/20 [01:06<00:00,  3.33s/trial, best loss: -0.9731543624161074]"
          ]
        },
        {
          "output_type": "stream",
          "name": "stderr",
          "text": [
            "/usr/local/lib/python3.11/dist-packages/sklearn/utils/deprecation.py:151: FutureWarning: 'force_all_finite' was renamed to 'ensure_all_finite' in 1.6 and will be removed in 1.8.\n",
            "  warnings.warn(\n",
            "\n"
          ]
        },
        {
          "output_type": "stream",
          "name": "stdout",
          "text": [
            "\n"
          ]
        },
        {
          "output_type": "stream",
          "name": "stderr",
          "text": [
            "/usr/local/lib/python3.11/dist-packages/sklearn/utils/deprecation.py:151: FutureWarning: 'force_all_finite' was renamed to 'ensure_all_finite' in 1.6 and will be removed in 1.8.\n",
            "  warnings.warn(\n"
          ]
        },
        {
          "output_type": "stream",
          "name": "stdout",
          "text": [
            "[LightGBM] [Info] Number of positive: 14216, number of negative: 12012\n",
            "[LightGBM] [Info] Auto-choosing col-wise multi-threading, the overhead of testing was 0.023105 seconds.\n",
            "You can set `force_col_wise=true` to remove the overhead.\n",
            "[LightGBM] [Info] Total Bins 24225\n",
            "[LightGBM] [Info] Number of data points in the train set: 26228, number of used features: 95\n",
            "[LightGBM] [Info] [binary:BoostFromScore]: pavg=0.542016 -> initscore=0.168462\n",
            "[LightGBM] [Info] Start training from score 0.168462\n",
            "                          Model  Accuracy\n",
            "                      KNN (k=3)  0.657718\n",
            "                  Random Forest  0.936242\n",
            "MLP (1 Hidden Layer, 3 Neurons)  0.949664\n",
            "              SVM (Poly Kernel)  0.979866\n",
            "           LightGBM (Optimized)  1.000000\n"
          ]
        },
        {
          "output_type": "stream",
          "name": "stderr",
          "text": [
            "/usr/local/lib/python3.11/dist-packages/sklearn/utils/deprecation.py:151: FutureWarning: 'force_all_finite' was renamed to 'ensure_all_finite' in 1.6 and will be removed in 1.8.\n",
            "  warnings.warn(\n",
            "/usr/local/lib/python3.11/dist-packages/sklearn/utils/deprecation.py:151: FutureWarning: 'force_all_finite' was renamed to 'ensure_all_finite' in 1.6 and will be removed in 1.8.\n",
            "  warnings.warn(\n"
          ]
        }
      ]
    },
    {
      "cell_type": "code",
      "source": [
        "with open(\"model_results.txt\", \"w\") as f:\n",
        "    f.write(results_df.to_string(index=False))"
      ],
      "metadata": {
        "id": "SMfywcgajyp0"
      },
      "execution_count": 17,
      "outputs": []
    }
  ]
}